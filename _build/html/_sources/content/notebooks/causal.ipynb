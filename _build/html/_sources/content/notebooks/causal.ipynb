{
 "cells": [
  {
   "cell_type": "markdown",
   "metadata": {},
   "source": [
    "# SCMs in Code\n",
    "\n",
    "## Exercise, Stress, Diet and Health\n",
    "\n",
    "Recall we posit the following causal graph for how health is related to exercise, stress and diet.\n",
    "\n",
    "```{tikz} Causal Graph Example\n",
    ":xscale: 50\n",
    "\n",
    "\\usetikzlibrary{arrows.meta, positioning, shapes, backgrounds}\n",
    "\n",
    "\\definecolor{darkred}{RGB}{160,0,0}\n",
    "\\definecolor{darkblue}{RGB}{7, 90, 224}\n",
    "\\definecolor{nicegreen}{RGB}{43, 194, 88}\n",
    "\\definecolor{niceorange}{RGB}{255, 221, 0}\n",
    "\n",
    "\\definecolor{mediumgray}{RGB}{120,120,120}\n",
    "\n",
    "\\tikzset{arrow/.style={\n",
    "    -{Latex[length=3mm, width=2mm]}, % Arrow tip configuration\n",
    "    line width=0.4mm, % Arrow line width\n",
    "    draw=mediumgray, % Use the medium gray color for the arrow\n",
    "}}\n",
    "\n",
    "\\begin{tikzpicture}[node distance=1.5cm and 2.5cm, \n",
    "                    mynode/.style={circle, draw=none, minimum size=0.7cm,outer sep=1pt, font=\\sffamily}]\n",
    "    % Nodes\n",
    "    \\node[mynode, shape=circle, fill=darkblue!40!white] (E) {$E$};\n",
    "    \\node[mynode, below right= 0.5cm and 1.6cm of E, shape=circle, fill=darkblue!40!white] (H) {$H$};\n",
    "    \\node[mynode, below =of E, shape=circle, fill=darkblue!40!white] (D) {$D$};\n",
    "    \\node[mynode, below left =0.5cm and 1.6cm of E, shape = circle,  fill=darkblue!40!white] (S) {$S$};\n",
    "\n",
    "    % Edges\n",
    "    \\draw[arrow] (S) -- (E);\n",
    "    \\draw[arrow] (E) -- (H);\n",
    "    \\draw[arrow] (D) -- (H);\n",
    "    \\draw[arrow] (S) -- (H);\n",
    "\\end{tikzpicture}\n",
    "\n",
    "```\n",
    "\n",
    "In this example, we use synthetic data to demonstrate Causal Inference.\n",
    "\n",
    "### Loading Packages\n"
   ]
  },
  {
   "cell_type": "code",
   "execution_count": 2,
   "metadata": {},
   "outputs": [],
   "source": [
    "import numpy as np\n",
    "import pandas as pd\n",
    "import statsmodels.api as sm\n",
    "import matplotlib\n",
    "import matplotlib.pyplot as plt\n",
    "from matplotlib import style\n",
    "import seaborn as sns\n",
    "\n",
    "style.use(\"fast\")\n",
    "matplotlib.rcParams['mathtext.fontset'] = 'stix'\n",
    "matplotlib.rcParams['font.family'] = 'STIXGeneral'\n",
    "\n",
    "# Set seed for reproducibility\n",
    "np.random.seed(42)"
   ]
  },
  {
   "cell_type": "markdown",
   "metadata": {},
   "source": [
    "### Generating Synthetic Data\n",
    "\n",
    "To generate synthetic data, we use a linear relationship between each of the variables. "
   ]
  },
  {
   "cell_type": "code",
   "execution_count": 4,
   "metadata": {},
   "outputs": [
    {
     "data": {
      "text/html": [
       "<div>\n",
       "<style scoped>\n",
       "    .dataframe tbody tr th:only-of-type {\n",
       "        vertical-align: middle;\n",
       "    }\n",
       "\n",
       "    .dataframe tbody tr th {\n",
       "        vertical-align: top;\n",
       "    }\n",
       "\n",
       "    .dataframe thead th {\n",
       "        text-align: right;\n",
       "    }\n",
       "</style>\n",
       "<table border=\"1\" class=\"dataframe\">\n",
       "  <thead>\n",
       "    <tr style=\"text-align: right;\">\n",
       "      <th></th>\n",
       "      <th>Stress</th>\n",
       "      <th>Diet</th>\n",
       "      <th>Exercise</th>\n",
       "      <th>Health</th>\n",
       "    </tr>\n",
       "  </thead>\n",
       "  <tbody>\n",
       "    <tr>\n",
       "      <th>0</th>\n",
       "      <td>22.483571</td>\n",
       "      <td>1.674826</td>\n",
       "      <td>1</td>\n",
       "      <td>16.630190</td>\n",
       "    </tr>\n",
       "    <tr>\n",
       "      <th>1</th>\n",
       "      <td>19.308678</td>\n",
       "      <td>1.045678</td>\n",
       "      <td>1</td>\n",
       "      <td>16.238216</td>\n",
       "    </tr>\n",
       "    <tr>\n",
       "      <th>2</th>\n",
       "      <td>23.238443</td>\n",
       "      <td>6.364302</td>\n",
       "      <td>1</td>\n",
       "      <td>16.000719</td>\n",
       "    </tr>\n",
       "    <tr>\n",
       "      <th>3</th>\n",
       "      <td>27.615149</td>\n",
       "      <td>7.064757</td>\n",
       "      <td>0</td>\n",
       "      <td>11.076818</td>\n",
       "    </tr>\n",
       "    <tr>\n",
       "      <th>4</th>\n",
       "      <td>18.829233</td>\n",
       "      <td>0.315861</td>\n",
       "      <td>0</td>\n",
       "      <td>9.348547</td>\n",
       "    </tr>\n",
       "  </tbody>\n",
       "</table>\n",
       "</div>"
      ],
      "text/plain": [
       "      Stress      Diet  Exercise     Health\n",
       "0  22.483571  1.674826         1  16.630190\n",
       "1  19.308678  1.045678         1  16.238216\n",
       "2  23.238443  6.364302         1  16.000719\n",
       "3  27.615149  7.064757         0  11.076818\n",
       "4  18.829233  0.315861         0   9.348547"
      ]
     },
     "execution_count": 4,
     "metadata": {},
     "output_type": "execute_result"
    }
   ],
   "source": [
    "# Re-import libraries and regenerate the initial synthetic data with E as a binary variable\n",
    "import numpy as np\n",
    "import pandas as pd\n",
    "import statsmodels.api as sm\n",
    "\n",
    "# Seed for reproducibility\n",
    "\n",
    "# Generate synthetic data\n",
    "n = 1000  # Number of samples\n",
    "S = np.random.normal(loc=20, scale=5, size=n)  # Stress levels\n",
    "D = np.random.uniform(low=0, high=10, size=n)  # Diet quality\n",
    "E = (np.random.uniform(0, 1, size=n) < (-0.6 - 0.04 * (S - 50))).astype(int)  # Exercise: 1 for high, 0 for low, influenced by S\n",
    "H = 2 + 0.5 * S - 0.6 * D + 5 * E + np.random.normal(loc=0, scale=1, size=n)  # Health status\n",
    "\n",
    "# DataFrame\n",
    "df = pd.DataFrame({'Stress': S, 'Diet': D, 'Exercise': E, 'Health': H})\n",
    "df.head()"
   ]
  },
  {
   "cell_type": "markdown",
   "metadata": {},
   "source": [
    "## Estimating a Causal Effect\n",
    "\n",
    "We seek to estimate the causal effect of Exercise ($E$) on Health ($H$). From previous arguments, we can compute this as:\n",
    "\n",
    "$$  \\text{Pr}(H | \\text{do}(E = \\text{high})) = \\sum_{S,D} \\text{Pr}(H | S, D, E = \\text{high}) \\text{Pr}(S) \\text{Pr}(D). $$\n",
    "\n",
    "In order to estimate this, we:\n",
    "\n",
    "1. Posit a statistical model for the distributions involved in the computation. For this example, we require $\\text{Pr}(H | S, D, E)$, $\\text{Pr}(S)$ and $\\text{Pr}(D)$.\n",
    "2. Fit the models to the data\n",
    "3. Estimate the causal effect using the formula above. Since $S$ and $D$ are continuous here, we will use Monte-Carlo.\n",
    "\n",
    "For $\\text{Pr}(H | S, D, E)$, we will use linear regression (here $U_H$ is Gaussian noise):\n",
    "\n",
    "$$ H = \\beta_0 + \\beta_1 S + \\beta_2 D + \\beta_3 E + U_H. $$\n",
    "\n",
    "For the other probabilities, we could posit a model. However, we will just use their true distributions."
   ]
  },
  {
   "cell_type": "markdown",
   "metadata": {},
   "source": [
    "### Fit the model"
   ]
  },
  {
   "cell_type": "code",
   "execution_count": 136,
   "metadata": {},
   "outputs": [
    {
     "data": {
      "text/html": [
       "<table class=\"simpletable\">\n",
       "<caption>OLS Regression Results</caption>\n",
       "<tr>\n",
       "  <th>Dep. Variable:</th>         <td>Health</td>      <th>  R-squared:         </th> <td>   0.918</td>\n",
       "</tr>\n",
       "<tr>\n",
       "  <th>Model:</th>                   <td>OLS</td>       <th>  Adj. R-squared:    </th> <td>   0.918</td>\n",
       "</tr>\n",
       "<tr>\n",
       "  <th>Method:</th>             <td>Least Squares</td>  <th>  F-statistic:       </th> <td>   3712.</td>\n",
       "</tr>\n",
       "<tr>\n",
       "  <th>Date:</th>             <td>Fri, 16 Feb 2024</td> <th>  Prob (F-statistic):</th>  <td>  0.00</td> \n",
       "</tr>\n",
       "<tr>\n",
       "  <th>Time:</th>                 <td>11:52:30</td>     <th>  Log-Likelihood:    </th> <td> -1376.3</td>\n",
       "</tr>\n",
       "<tr>\n",
       "  <th>No. Observations:</th>      <td>  1000</td>      <th>  AIC:               </th> <td>   2761.</td>\n",
       "</tr>\n",
       "<tr>\n",
       "  <th>Df Residuals:</th>          <td>   996</td>      <th>  BIC:               </th> <td>   2780.</td>\n",
       "</tr>\n",
       "<tr>\n",
       "  <th>Df Model:</th>              <td>     3</td>      <th>                     </th>     <td> </td>   \n",
       "</tr>\n",
       "<tr>\n",
       "  <th>Covariance Type:</th>      <td>nonrobust</td>    <th>                     </th>     <td> </td>   \n",
       "</tr>\n",
       "</table>\n",
       "<table class=\"simpletable\">\n",
       "<tr>\n",
       "      <td></td>        <th>coef</th>     <th>std err</th>      <th>t</th>      <th>P>|t|</th>  <th>[0.025</th>    <th>0.975]</th>  \n",
       "</tr>\n",
       "<tr>\n",
       "  <th>const</th>    <td>    1.8145</td> <td>    0.168</td> <td>   10.832</td> <td> 0.000</td> <td>    1.486</td> <td>    2.143</td>\n",
       "</tr>\n",
       "<tr>\n",
       "  <th>Stress</th>   <td>    0.5008</td> <td>    0.007</td> <td>   75.492</td> <td> 0.000</td> <td>    0.488</td> <td>    0.514</td>\n",
       "</tr>\n",
       "<tr>\n",
       "  <th>Diet</th>     <td>   -0.5748</td> <td>    0.011</td> <td>  -53.969</td> <td> 0.000</td> <td>   -0.596</td> <td>   -0.554</td>\n",
       "</tr>\n",
       "<tr>\n",
       "  <th>Exercise</th> <td>    5.0584</td> <td>    0.068</td> <td>   74.534</td> <td> 0.000</td> <td>    4.925</td> <td>    5.192</td>\n",
       "</tr>\n",
       "</table>\n",
       "<table class=\"simpletable\">\n",
       "<tr>\n",
       "  <th>Omnibus:</th>       <td> 1.189</td> <th>  Durbin-Watson:     </th> <td>   1.946</td>\n",
       "</tr>\n",
       "<tr>\n",
       "  <th>Prob(Omnibus):</th> <td> 0.552</td> <th>  Jarque-Bera (JB):  </th> <td>   1.222</td>\n",
       "</tr>\n",
       "<tr>\n",
       "  <th>Skew:</th>          <td>-0.083</td> <th>  Prob(JB):          </th> <td>   0.543</td>\n",
       "</tr>\n",
       "<tr>\n",
       "  <th>Kurtosis:</th>      <td> 2.959</td> <th>  Cond. No.          </th> <td>    121.</td>\n",
       "</tr>\n",
       "</table><br/><br/>Notes:<br/>[1] Standard Errors assume that the covariance matrix of the errors is correctly specified."
      ],
      "text/latex": [
       "\\begin{center}\n",
       "\\begin{tabular}{lclc}\n",
       "\\toprule\n",
       "\\textbf{Dep. Variable:}    &      Health      & \\textbf{  R-squared:         } &     0.918   \\\\\n",
       "\\textbf{Model:}            &       OLS        & \\textbf{  Adj. R-squared:    } &     0.918   \\\\\n",
       "\\textbf{Method:}           &  Least Squares   & \\textbf{  F-statistic:       } &     3712.   \\\\\n",
       "\\textbf{Date:}             & Fri, 16 Feb 2024 & \\textbf{  Prob (F-statistic):} &     0.00    \\\\\n",
       "\\textbf{Time:}             &     11:52:30     & \\textbf{  Log-Likelihood:    } &   -1376.3   \\\\\n",
       "\\textbf{No. Observations:} &        1000      & \\textbf{  AIC:               } &     2761.   \\\\\n",
       "\\textbf{Df Residuals:}     &         996      & \\textbf{  BIC:               } &     2780.   \\\\\n",
       "\\textbf{Df Model:}         &           3      & \\textbf{                     } &             \\\\\n",
       "\\textbf{Covariance Type:}  &    nonrobust     & \\textbf{                     } &             \\\\\n",
       "\\bottomrule\n",
       "\\end{tabular}\n",
       "\\begin{tabular}{lcccccc}\n",
       "                  & \\textbf{coef} & \\textbf{std err} & \\textbf{t} & \\textbf{P$> |$t$|$} & \\textbf{[0.025} & \\textbf{0.975]}  \\\\\n",
       "\\midrule\n",
       "\\textbf{const}    &       1.8145  &        0.168     &    10.832  &         0.000        &        1.486    &        2.143     \\\\\n",
       "\\textbf{Stress}   &       0.5008  &        0.007     &    75.492  &         0.000        &        0.488    &        0.514     \\\\\n",
       "\\textbf{Diet}     &      -0.5748  &        0.011     &   -53.969  &         0.000        &       -0.596    &       -0.554     \\\\\n",
       "\\textbf{Exercise} &       5.0584  &        0.068     &    74.534  &         0.000        &        4.925    &        5.192     \\\\\n",
       "\\bottomrule\n",
       "\\end{tabular}\n",
       "\\begin{tabular}{lclc}\n",
       "\\textbf{Omnibus:}       &  1.189 & \\textbf{  Durbin-Watson:     } &    1.946  \\\\\n",
       "\\textbf{Prob(Omnibus):} &  0.552 & \\textbf{  Jarque-Bera (JB):  } &    1.222  \\\\\n",
       "\\textbf{Skew:}          & -0.083 & \\textbf{  Prob(JB):          } &    0.543  \\\\\n",
       "\\textbf{Kurtosis:}      &  2.959 & \\textbf{  Cond. No.          } &     121.  \\\\\n",
       "\\bottomrule\n",
       "\\end{tabular}\n",
       "%\\caption{OLS Regression Results}\n",
       "\\end{center}\n",
       "\n",
       "Notes: \\newline\n",
       " [1] Standard Errors assume that the covariance matrix of the errors is correctly specified."
      ],
      "text/plain": [
       "<class 'statsmodels.iolib.summary.Summary'>\n",
       "\"\"\"\n",
       "                            OLS Regression Results                            \n",
       "==============================================================================\n",
       "Dep. Variable:                 Health   R-squared:                       0.918\n",
       "Model:                            OLS   Adj. R-squared:                  0.918\n",
       "Method:                 Least Squares   F-statistic:                     3712.\n",
       "Date:                Fri, 16 Feb 2024   Prob (F-statistic):               0.00\n",
       "Time:                        11:52:30   Log-Likelihood:                -1376.3\n",
       "No. Observations:                1000   AIC:                             2761.\n",
       "Df Residuals:                     996   BIC:                             2780.\n",
       "Df Model:                           3                                         \n",
       "Covariance Type:            nonrobust                                         \n",
       "==============================================================================\n",
       "                 coef    std err          t      P>|t|      [0.025      0.975]\n",
       "------------------------------------------------------------------------------\n",
       "const          1.8145      0.168     10.832      0.000       1.486       2.143\n",
       "Stress         0.5008      0.007     75.492      0.000       0.488       0.514\n",
       "Diet          -0.5748      0.011    -53.969      0.000      -0.596      -0.554\n",
       "Exercise       5.0584      0.068     74.534      0.000       4.925       5.192\n",
       "==============================================================================\n",
       "Omnibus:                        1.189   Durbin-Watson:                   1.946\n",
       "Prob(Omnibus):                  0.552   Jarque-Bera (JB):                1.222\n",
       "Skew:                          -0.083   Prob(JB):                        0.543\n",
       "Kurtosis:                       2.959   Cond. No.                         121.\n",
       "==============================================================================\n",
       "\n",
       "Notes:\n",
       "[1] Standard Errors assume that the covariance matrix of the errors is correctly specified.\n",
       "\"\"\""
      ]
     },
     "execution_count": 136,
     "metadata": {},
     "output_type": "execute_result"
    }
   ],
   "source": [
    "# Fit the linear regression model for Pr(H | S, D, E)\n",
    "X = df[['Stress', 'Diet', 'Exercise']]  # Independent variables\n",
    "Y = df['Health']  # Dependent variable\n",
    "X = sm.add_constant(X)  # Add a constant term for the intercept\n",
    "\n",
    "model = sm.OLS(Y, X).fit()\n",
    "model.summary()"
   ]
  },
  {
   "cell_type": "markdown",
   "metadata": {},
   "source": [
    "### Monte-Carlo simulation\n",
    "\n",
    "#### Sampling $H | \\text{do}(E=high)$.\n",
    "\n",
    "Next, we will generate samples from $H | \\text{do}(E=high)$."
   ]
  },
  {
   "cell_type": "code",
   "execution_count": 137,
   "metadata": {},
   "outputs": [
    {
     "name": "stdout",
     "output_type": "stream",
     "text": [
      "13.989103414918127\n"
     ]
    }
   ],
   "source": [
    "## Generate samples for S and D from their original distributions\n",
    "n_mc = 10000  # Number of Monte Carlo samples\n",
    "S_samples = np.random.normal(loc=20, scale=5, size=n_mc)\n",
    "D_samples = np.random.uniform(low=0, high=10, size=n_mc)\n",
    "\n",
    "## Perform Monte Carlo simulation to estimate Pr(H | do(E = high))\n",
    "\n",
    "# Set E to high (1) for all samples in the Monte Carlo simulation\n",
    "E_high = np.ones(n_mc)\n",
    "\n",
    "# Prepare the data for prediction, including the constant term\n",
    "X_mc = np.column_stack((np.ones(n_mc), S_samples, D_samples, E_high))\n",
    "\n",
    "# Predict H using the corrected model and input structure\n",
    "H_do_Ehigh = model.predict(X_mc)\n",
    "average_H_do_Ehigh = np.mean(H_do_Ehigh)\n",
    "\n",
    "print(average_H_do_Ehigh)"
   ]
  },
  {
   "cell_type": "markdown",
   "metadata": {},
   "source": [
    "#### Visualisation"
   ]
  },
  {
   "cell_type": "code",
   "execution_count": 138,
   "metadata": {},
   "outputs": [
    {
     "data": {
      "image/png": "[encoded data removed]",
      "text/plain": [
       "<Figure size 1000x600 with 1 Axes>"
      ]
     },
     "metadata": {},
     "output_type": "display_data"
    }
   ],
   "source": [
    "plt.figure(figsize=(10, 6))\n",
    "sns.histplot(H_do_Ehigh, bins=30, kde=True, color='blue')\n",
    "plt.axvline(x=average_H_do_Ehigh, color='red', linestyle='--', label=f'Average Causal Effect: {average_H_do_Ehigh:.2f}')\n",
    "plt.title('Distribution of Health Outcomes: $H \\, | \\, \\\\text{do}(E=high)$')\n",
    "plt.xlabel('Health Outcome ($H$)')\n",
    "plt.ylabel('Frequency')\n",
    "plt.show()"
   ]
  },
  {
   "cell_type": "markdown",
   "metadata": {},
   "source": [
    "#### Sampling $H | \\text{do}(E=low)$."
   ]
  },
  {
   "cell_type": "code",
   "execution_count": 139,
   "metadata": {},
   "outputs": [
    {
     "name": "stdout",
     "output_type": "stream",
     "text": [
      "8.966886531178082\n"
     ]
    }
   ],
   "source": [
    "## Generate samples for S and D from their original distributions\n",
    "n_mc = 10000  # Number of Monte Carlo samples\n",
    "S_samples = np.random.normal(loc=20, scale=5, size=n_mc)\n",
    "D_samples = np.random.uniform(low=0, high=10, size=n_mc)\n",
    "\n",
    "## Perform Monte Carlo simulation to estimate Pr(H | do(E = low))\n",
    "\n",
    "# Set E to high (1) for all samples in the Monte Carlo simulation\n",
    "E_low = np.zeros(n_mc)\n",
    "\n",
    "# Prepare the data for prediction, including the constant term\n",
    "X_mc = np.column_stack((np.ones(n_mc), S_samples, D_samples, E_low))\n",
    "\n",
    "# Predict H using the corrected model and input structure\n",
    "H_do_Elow = model.predict(X_mc)\n",
    "average_H_do_Elow = np.mean(H_do_Elow)\n",
    "\n",
    "print(average_H_do_Elow)"
   ]
  },
  {
   "cell_type": "markdown",
   "metadata": {},
   "source": [
    "#### Visualisation"
   ]
  },
  {
   "cell_type": "code",
   "execution_count": 140,
   "metadata": {},
   "outputs": [
    {
     "data": {
      "image/png": "[encoded data removed]",
      "text/plain": [
       "<Figure size 1000x600 with 1 Axes>"
      ]
     },
     "metadata": {},
     "output_type": "display_data"
    }
   ],
   "source": [
    "plt.figure(figsize=(10, 6))\n",
    "sns.histplot(H_do_Elow, bins=30, kde=True, color='blue')\n",
    "plt.axvline(x=average_H_do_Elow, color='red', linestyle='--', label=f'Average Causal Effect: {average_H_do_Elow:.2f}')\n",
    "plt.title('Distribution of Health Outcomes: $H \\, | \\, \\\\text{do}(E=low)$')\n",
    "plt.xlabel('Health Outcome ($H$)')\n",
    "plt.ylabel('Frequency')\n",
    "plt.show()"
   ]
  },
  {
   "cell_type": "markdown",
   "metadata": {},
   "source": [
    "### Validating Faithfulness\n",
    "\n",
    "#### Sensitivity Analysis\n",
    "\n",
    "Using our ongoing example, we consider how sensitivity analysis can be used to verify *faithfulness*. We do this by first assuming an incorrect DAG and modify it. Our initial (incorrect) Causal Graph is:\n",
    "\n",
    "\n",
    "```{tikz} Incorrect Causal Model\n",
    ":xscale: 50\n",
    "\n",
    "\\usetikzlibrary{arrows.meta, positioning, shapes, backgrounds}\n",
    "\n",
    "\\definecolor{darkred}{RGB}{160,0,0}\n",
    "\\definecolor{darkblue}{RGB}{7, 90, 224}\n",
    "\\definecolor{nicegreen}{RGB}{43, 194, 88}\n",
    "\\definecolor{niceorange}{RGB}{255, 221, 0}\n",
    "\n",
    "\\definecolor{mediumgray}{RGB}{120,120,120}\n",
    "\n",
    "\\tikzset{arrow/.style={\n",
    "    -{Latex[length=3mm, width=2mm]}, % Arrow tip configuration\n",
    "    line width=0.4mm, % Arrow line width\n",
    "    draw=mediumgray, % Use the medium gray color for the arrow\n",
    "}}\n",
    "\n",
    "\\begin{tikzpicture}[node distance=1.5cm and 2.5cm, \n",
    "                    mynode/.style={circle, draw=none, minimum size=0.7cm,outer sep=1pt, font=\\sffamily}]\n",
    "    % Nodes\n",
    "    \\node[mynode, shape=circle, fill=darkblue!40!white] (E) {$E$};\n",
    "    \\node[mynode, below right= 0.5cm and 1.6cm of E, shape=circle, fill=darkblue!40!white] (H) {$H$};\n",
    "    \\node[mynode, below =of E, shape=circle, fill=darkblue!40!white] (D) {$D$};\n",
    "    \\node[mynode, below left =0.5cm and 1.6cm of E, shape = circle,  fill=darkblue!40!white] (S) {$S$};\n",
    "\n",
    "    % Edges\n",
    "    \\draw[arrow] (S) -- (E);\n",
    "    \\draw[arrow] (E) -- (H);\n",
    "    \\draw[arrow] (D) -- (H);\n",
    "\\end{tikzpicture}\n",
    "\n",
    "```\n",
    "\n",
    "\n"
   ]
  },
  {
   "cell_type": "code",
   "execution_count": 21,
   "metadata": {},
   "outputs": [],
   "source": [
    "n = 1000  # Number of samples\n",
    "S = np.random.normal(loc=20, scale=5, size=n)  # Stress levels\n",
    "D = np.random.uniform(low=0, high=10, size=n)  # Diet quality\n",
    "E = (np.random.uniform(0, 1, size=n) < (-0.6 - 0.04 * (S - 50))).astype(int)  # Exercise: 1 for high, 0 for low, influenced by S\n",
    "H = 400 - 20 * S - 0.6 * D + 5 * E + np.random.normal(loc=0, scale=1, size=n)  # Health status\n"
   ]
  },
  {
   "cell_type": "code",
   "execution_count": 22,
   "metadata": {},
   "outputs": [
    {
     "name": "stdout",
     "output_type": "stream",
     "text": [
      "                            OLS Regression Results                            \n",
      "==============================================================================\n",
      "Dep. Variable:                 Health   R-squared:                       0.178\n",
      "Model:                            OLS   Adj. R-squared:                  0.176\n",
      "Method:                 Least Squares   F-statistic:                     107.9\n",
      "Date:                Fri, 01 Mar 2024   Prob (F-statistic):           3.97e-43\n",
      "Time:                        12:52:59   Log-Likelihood:                -5917.5\n",
      "No. Observations:                1000   AIC:                         1.184e+04\n",
      "Df Residuals:                     997   BIC:                         1.186e+04\n",
      "Df Model:                           2                                         \n",
      "Covariance Type:            nonrobust                                         \n",
      "==============================================================================\n",
      "                 coef    std err          t      P>|t|      [0.025      0.975]\n",
      "------------------------------------------------------------------------------\n",
      "const        -49.3245      6.721     -7.339      0.000     -62.513     -36.136\n",
      "Diet          -0.0724      1.000     -0.072      0.942      -2.035       1.890\n",
      "Exercise      84.9265      5.787     14.674      0.000      73.570      96.283\n",
      "==============================================================================\n",
      "Omnibus:                        0.046   Durbin-Watson:                   1.978\n",
      "Prob(Omnibus):                  0.977   Jarque-Bera (JB):                0.015\n",
      "Skew:                          -0.007   Prob(JB):                        0.993\n",
      "Kurtosis:                       3.012   Cond. No.                         15.9\n",
      "==============================================================================\n",
      "\n",
      "Notes:\n",
      "[1] Standard Errors assume that the covariance matrix of the errors is correctly specified.\n",
      "Average Health Outcome | do(E=high): 35.238327604532806\n",
      "Average Health Outcome | do(E=low): -49.6881732900588\n"
     ]
    }
   ],
   "source": [
    "# Creating the DataFrame\n",
    "df = pd.DataFrame({'Stress': S, 'Diet': D, 'Exercise': E, 'Health': H})\n",
    "\n",
    "# Fit the linear regression model for Pr(H | D, E)\n",
    "X = df[['Diet', 'Exercise']]  # Independent variables\n",
    "Y = df['Health']  # Dependent variable\n",
    "X = sm.add_constant(X)  # Add a constant term for the intercept\n",
    "\n",
    "model = sm.OLS(Y, X).fit()\n",
    "print(model.summary())\n",
    "\n",
    "# Perform Monte Carlo simulation to estimate Pr(H | do(E = high))\n",
    "n_mc = 10000  # Number of Monte Carlo samples\n",
    "S_samples = np.random.normal(loc=20, scale=5, size=n_mc)\n",
    "D_samples = np.random.uniform(low=0, high=10, size=n_mc)\n",
    "\n",
    "# Set E to high (1) for all samples in the Monte Carlo simulation\n",
    "E_high = np.ones(n_mc)\n",
    "\n",
    "# Prepare the data for prediction, including the constant term\n",
    "X_mc_high = np.column_stack((np.ones(n_mc), D_samples, E_high))\n",
    "\n",
    "# Predict H using the model and input structure for high exercise\n",
    "H_do_Ehigh = model.predict(X_mc_high)\n",
    "average_H_do_Ehigh = np.mean(H_do_Ehigh)\n",
    "\n",
    "# Perform Monte Carlo simulation to estimate Pr(H | do(E = low))\n",
    "# Set E to low (0) for all samples in the Monte Carlo simulation\n",
    "E_low = np.zeros(n_mc)\n",
    "\n",
    "# Prepare the data for prediction, including the constant term\n",
    "X_mc_low = np.column_stack((np.ones(n_mc), D_samples, E_low))\n",
    "\n",
    "# Predict H using the model and input structure for low exercise\n",
    "H_do_Elow = model.predict(X_mc_low)\n",
    "average_H_do_Elow = np.mean(H_do_Elow)\n",
    "\n",
    "print(f\"Average Health Outcome | do(E=high): {average_H_do_Ehigh}\")\n",
    "print(f\"Average Health Outcome | do(E=low): {average_H_do_Elow}\")"
   ]
  },
  {
   "cell_type": "code",
   "execution_count": 24,
   "metadata": {},
   "outputs": [
    {
     "name": "stdout",
     "output_type": "stream",
     "text": [
      "Average Health Outcome | do(E=high): 1.7265694720299742\n",
      "Average Health Outcome | do(E=low): -3.4292296570386918\n"
     ]
    }
   ],
   "source": [
    "# Creating the DataFrame\n",
    "df = pd.DataFrame({'Stress': S, 'Diet': D, 'Exercise': E, 'Health': H})\n",
    "\n",
    "# Fit the linear regression model for Pr(H | D, E)\n",
    "X = df[['Stress', 'Diet', 'Exercise']]  # Independent variables\n",
    "Y = df['Health']  # Dependent variable\n",
    "X = sm.add_constant(X)  # Add a constant term for the intercept\n",
    "\n",
    "model = sm.OLS(Y, X).fit()\n",
    "\n",
    "# Prepare the data for prediction, including the constant term\n",
    "X_mc_high = np.column_stack((np.ones(n_mc), S_samples, D_samples, E_high))\n",
    "\n",
    "# Predict H using the model and input structure for high exercise\n",
    "H_do_Ehigh = model.predict(X_mc_high)\n",
    "average_H_do_Ehigh = np.mean(H_do_Ehigh)\n",
    "\n",
    "# Perform Monte Carlo simulation to estimate Pr(H | do(E = low))\n",
    "# Set E to low (0) for all samples in the Monte Carlo simulation\n",
    "E_low = np.zeros(n_mc)\n",
    "\n",
    "# Prepare the data for prediction, including the constant term\n",
    "X_mc_low = np.column_stack((np.ones(n_mc), S_samples, D_samples, E_low))\n",
    "\n",
    "# Predict H using the model and input structure for low exercise\n",
    "H_do_Elow = model.predict(X_mc_low)\n",
    "average_H_do_Elow = np.mean(H_do_Elow)\n",
    "\n",
    "print(f\"Average Health Outcome | do(E=high): {average_H_do_Ehigh}\")\n",
    "print(f\"Average Health Outcome | do(E=low): {average_H_do_Elow}\")"
   ]
  }
 ],
 "metadata": {
  "kernelspec": {
   "display_name": "Python 3",
   "language": "python",
   "name": "python3"
  },
  "language_info": {
   "codemirror_mode": {
    "name": "ipython",
    "version": 3
   },
   "file_extension": ".py",
   "mimetype": "text/x-python",
   "name": "python",
   "nbconvert_exporter": "python",
   "pygments_lexer": "ipython3",
   "version": "3.11.4"
  }
 },
 "nbformat": 4,
 "nbformat_minor": 2
}
